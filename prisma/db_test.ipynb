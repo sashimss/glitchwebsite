{
 "cells": [
  {
   "cell_type": "code",
   "execution_count": 8,
   "id": "f61ab8d6",
   "metadata": {},
   "outputs": [
    {
     "data": {
      "text/html": [
       "<div>\n",
       "<style scoped>\n",
       "    .dataframe tbody tr th:only-of-type {\n",
       "        vertical-align: middle;\n",
       "    }\n",
       "\n",
       "    .dataframe tbody tr th {\n",
       "        vertical-align: top;\n",
       "    }\n",
       "\n",
       "    .dataframe thead th {\n",
       "        text-align: right;\n",
       "    }\n",
       "</style>\n",
       "<table border=\"1\" class=\"dataframe\">\n",
       "  <thead>\n",
       "    <tr style=\"text-align: right;\">\n",
       "      <th></th>\n",
       "      <th>hostel_name</th>\n",
       "      <th>email</th>\n",
       "    </tr>\n",
       "  </thead>\n",
       "  <tbody>\n",
       "    <tr>\n",
       "      <th>0</th>\n",
       "      <td>ARYABHATTA</td>\n",
       "      <td>BO21RESCH11006@iith.ac.in</td>\n",
       "    </tr>\n",
       "    <tr>\n",
       "      <th>1</th>\n",
       "      <td>ARYABHATTA</td>\n",
       "      <td>BO21RESCH11007@iith.ac.in</td>\n",
       "    </tr>\n",
       "    <tr>\n",
       "      <th>2</th>\n",
       "      <td>ARYABHATTA</td>\n",
       "      <td>ID21RESCH11019@iith.ac.in</td>\n",
       "    </tr>\n",
       "    <tr>\n",
       "      <th>3</th>\n",
       "      <td>ARYABHATTA</td>\n",
       "      <td>AI20RESCH11006@iith.ac.in</td>\n",
       "    </tr>\n",
       "    <tr>\n",
       "      <th>4</th>\n",
       "      <td>ARYABHATTA</td>\n",
       "      <td>AI23RESCH11004@iith.ac.in</td>\n",
       "    </tr>\n",
       "    <tr>\n",
       "      <th>...</th>\n",
       "      <td>...</td>\n",
       "      <td>...</td>\n",
       "    </tr>\n",
       "    <tr>\n",
       "      <th>4882</th>\n",
       "      <td>VISWESWARAY\\nA</td>\n",
       "      <td>CH23BTECH11042@iith.ac.in</td>\n",
       "    </tr>\n",
       "    <tr>\n",
       "      <th>4883</th>\n",
       "      <td>VISWESWARAY\\nA</td>\n",
       "      <td>BD23BDES11003@iith.ac.in</td>\n",
       "    </tr>\n",
       "    <tr>\n",
       "      <th>4884</th>\n",
       "      <td>VISWESWARAY\\nA</td>\n",
       "      <td>BD23BDES11014@iith.ac.in</td>\n",
       "    </tr>\n",
       "    <tr>\n",
       "      <th>4885</th>\n",
       "      <td>VISWESWARAY\\nA</td>\n",
       "      <td>MS23BTECH11035@iith.ac.in</td>\n",
       "    </tr>\n",
       "    <tr>\n",
       "      <th>4886</th>\n",
       "      <td>VISWESWARAY\\nA</td>\n",
       "      <td>CS24BTECH11065@iith.ac.in</td>\n",
       "    </tr>\n",
       "  </tbody>\n",
       "</table>\n",
       "<p>4887 rows × 2 columns</p>\n",
       "</div>"
      ],
      "text/plain": [
       "         hostel_name                      email\n",
       "0         ARYABHATTA  BO21RESCH11006@iith.ac.in\n",
       "1         ARYABHATTA  BO21RESCH11007@iith.ac.in\n",
       "2         ARYABHATTA  ID21RESCH11019@iith.ac.in\n",
       "3         ARYABHATTA  AI20RESCH11006@iith.ac.in\n",
       "4         ARYABHATTA  AI23RESCH11004@iith.ac.in\n",
       "...              ...                        ...\n",
       "4882  VISWESWARAY\\nA  CH23BTECH11042@iith.ac.in\n",
       "4883  VISWESWARAY\\nA   BD23BDES11003@iith.ac.in\n",
       "4884  VISWESWARAY\\nA   BD23BDES11014@iith.ac.in\n",
       "4885  VISWESWARAY\\nA  MS23BTECH11035@iith.ac.in\n",
       "4886  VISWESWARAY\\nA  CS24BTECH11065@iith.ac.in\n",
       "\n",
       "[4887 rows x 2 columns]"
      ]
     },
     "execution_count": 8,
     "metadata": {},
     "output_type": "execute_result"
    }
   ],
   "source": [
    "import pandas as pd\n",
    "\n",
    "df = pd.read_excel(\"/home/panshul/Desktop/Documents/Students list milan25.xlsx\")\n",
    "df.columns = ['hostel_name', 'email']\n",
    "df  # Replace with your Excel file path"
   ]
  },
  {
   "cell_type": "code",
   "execution_count": 13,
   "id": "5487ad5e",
   "metadata": {},
   "outputs": [],
   "source": [
    "unique_hostels = df['hostel_name'].unique()\n",
    "unique_hostels\n",
    "df_cleaned = df[~(df['email'].isna() | (df['email'].astype(str).str.strip() == ''))]"
   ]
  },
  {
   "cell_type": "code",
   "execution_count": 12,
   "id": "ab36523a",
   "metadata": {},
   "outputs": [
    {
     "data": {
      "text/plain": [
       "np.int64(0)"
      ]
     },
     "execution_count": 12,
     "metadata": {},
     "output_type": "execute_result"
    }
   ],
   "source": [
    "missing_email_count = df_cleaned['email'].isna().sum() + (df_cleaned['email'].astype(str).str.strip() == '').sum()\n",
    "missing_email_count"
   ]
  },
  {
   "cell_type": "code",
   "execution_count": 14,
   "id": "4f0b4cf3",
   "metadata": {},
   "outputs": [],
   "source": [
    "df_cleaned.to_csv(\"students.csv\", index=False)"
   ]
  },
  {
   "cell_type": "code",
   "execution_count": 10,
   "id": "f2c6d70a",
   "metadata": {},
   "outputs": [
    {
     "data": {
      "text/plain": [
       "np.int64(11)"
      ]
     },
     "execution_count": 10,
     "metadata": {},
     "output_type": "execute_result"
    }
   ],
   "source": [
    "missing_email_count = df['email'].isna().sum() + (df['email'].astype(str).str.strip() == '').sum()\n",
    "missing_email_count"
   ]
  },
  {
   "cell_type": "code",
   "execution_count": 6,
   "id": "60728f41",
   "metadata": {},
   "outputs": [
    {
     "name": "stdout",
     "output_type": "stream",
     "text": [
      "Row numbers with missing email (0-based index):\n",
      "[159, 247, 258, 268, 272, 273, 315, 352, 356, 358, 387, 410, 411, 424, 450, 702, 1023, 1026, 1737, 1770, 1803, 1870, 2175, 2826, 3722, 4396]\n",
      "\n",
      "Excel row numbers (including header line):\n",
      "[161, 249, 260, 270, 274, 275, 317, 354, 358, 360, 389, 412, 413, 426, 452, 704, 1025, 1028, 1739, 1772, 1805, 1872, 2177, 2828, 3724, 4398]\n"
     ]
    }
   ],
   "source": [
    "missing_email_rows = df[\n",
    "    df['email'].isna() | (df['email'].astype(str).str.strip() == '')\n",
    "]\n",
    "\n",
    "# Print the row numbers (Excel-style → +2 if header exists)\n",
    "print(\"Row numbers with missing email (0-based index):\")\n",
    "print(missing_email_rows.index.tolist())\n",
    "\n",
    "# If you want Excel-style row numbers (1-based, including header line)\n",
    "excel_rows = (missing_email_rows.index + 2).tolist()\n",
    "print(\"\\nExcel row numbers (including header line):\")\n",
    "print(excel_rows)\n"
   ]
  },
  {
   "cell_type": "code",
   "execution_count": null,
   "id": "efeb78d7",
   "metadata": {},
   "outputs": [],
   "source": [
    "/home/panshul/Desktop/Documents/Students list milan25.xlsx\n"
   ]
  }
 ],
 "metadata": {
  "kernelspec": {
   "display_name": "Python 3",
   "language": "python",
   "name": "python3"
  },
  "language_info": {
   "codemirror_mode": {
    "name": "ipython",
    "version": 3
   },
   "file_extension": ".py",
   "mimetype": "text/x-python",
   "name": "python",
   "nbconvert_exporter": "python",
   "pygments_lexer": "ipython3",
   "version": "3.12.3"
  }
 },
 "nbformat": 4,
 "nbformat_minor": 5
}
